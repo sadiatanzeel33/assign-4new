{
  "nbformat": 4,
  "nbformat_minor": 0,
  "metadata": {
    "colab": {
      "provenance": [],
      "authorship_tag": "ABX9TyPMX2bPVYqQNRNv0SHlMvxR",
      "include_colab_link": true
    },
    "kernelspec": {
      "name": "python3",
      "display_name": "Python 3"
    },
    "language_info": {
      "name": "python"
    }
  },
  "cells": [
    {
      "cell_type": "markdown",
      "metadata": {
        "id": "view-in-github",
        "colab_type": "text"
      },
      "source": [
        "<a href=\"https://colab.research.google.com/github/sadiatanzeel33/assign-4new/blob/main/05_loops_control_flow.ipynb\" target=\"_parent\"><img src=\"https://colab.research.google.com/assets/colab-badge.svg\" alt=\"Open In Colab\"/></a>"
      ]
    },
    {
      "cell_type": "code",
      "execution_count": 1,
      "metadata": {
        "colab": {
          "base_uri": "https://localhost:8080/"
        },
        "id": "kqHFBqB0mWXt",
        "outputId": "44625ff4-3426-4846-f669-c46fac9e69bd"
      },
      "outputs": [
        {
          "output_type": "stream",
          "name": "stdout",
          "text": [
            "I am thinking of a number between 0 and 99...\n",
            "Enter a guess: 55\n",
            "Your guess is too high\n",
            "Enter a guess: 15\n",
            "Your guess is too low\n",
            "Enter a guess: 40\n",
            "Your guess is too high\n",
            "Enter a guess: 30\n",
            "Your guess is too low\n",
            "Enter a guess: 99\n",
            "Your guess is too high\n",
            "Enter a guess: 48\n",
            "Your guess is too high\n",
            "Enter a guess: 45\n",
            "Your guess is too high\n",
            "Enter a guess: 50\n",
            "Your guess is too high\n",
            "Enter a guess: 35\n",
            "Congrats! The number was: 35\n"
          ]
        }
      ],
      "source": [
        "import random\n",
        "\n",
        "def main():\n",
        "    print(\"I am thinking of a number between 0 and 99...\")\n",
        "\n",
        "    # Pick a random number between 0 and 99\n",
        "    secret_number = random.randint(0, 99)\n",
        "\n",
        "    while True:\n",
        "        try:\n",
        "            guess = int(input(\"Enter a guess: \"))\n",
        "\n",
        "            if guess > secret_number:\n",
        "                print(\"Your guess is too high\")\n",
        "            elif guess < secret_number:\n",
        "                print(\"Your guess is too low\")\n",
        "            else:\n",
        "                print(f\"Congrats! The number was: {secret_number}\")\n",
        "                break\n",
        "        except ValueError:\n",
        "            print(\"Please enter a valid number.\")\n",
        "\n",
        "\n",
        "if __name__ == '__main__':\n",
        "    main()\n"
      ]
    },
    {
      "cell_type": "code",
      "source": [
        "def main():\n",
        "    MAX_VALUE = 10000  # Constant: the upper limit for Fibonacci numbers\n",
        "\n",
        "\n",
        "    a = 0\n",
        "    b = 1\n",
        "\n",
        "    print(a, end=' ')\n",
        "\n",
        "    while b < MAX_VALUE:\n",
        "        print(b, end=' ')\n",
        "        a, b = b, a + b\n",
        "\n",
        "    print()\n",
        "\n",
        "if __name__ == '__main__':\n",
        "    main()\n"
      ],
      "metadata": {
        "colab": {
          "base_uri": "https://localhost:8080/"
        },
        "id": "9-Qc6Bd5oJcx",
        "outputId": "3c74fd81-62e0-4439-8a5a-79e11f107c25"
      },
      "execution_count": 2,
      "outputs": [
        {
          "output_type": "stream",
          "name": "stdout",
          "text": [
            "0 1 1 2 3 5 8 13 21 34 55 89 144 233 377 610 987 1597 2584 4181 6765 \n"
          ]
        }
      ]
    },
    {
      "cell_type": "code",
      "source": [
        "def main():\n",
        "    for i in range(20):\n",
        "        even_number = i * 2\n",
        "        print(even_number, end=' ')\n",
        "\n",
        "    print()\n",
        "\n",
        "\n",
        "if __name__ == '__main__':\n",
        "    main()\n"
      ],
      "metadata": {
        "colab": {
          "base_uri": "https://localhost:8080/"
        },
        "id": "GvJ_9lgdoe1v",
        "outputId": "4ab8e0de-bdc8-45b4-ff56-7268adc4ad89"
      },
      "execution_count": 3,
      "outputs": [
        {
          "output_type": "stream",
          "name": "stdout",
          "text": [
            "0 2 4 6 8 10 12 14 16 18 20 22 24 26 28 30 32 34 36 38 \n"
          ]
        }
      ]
    },
    {
      "cell_type": "code",
      "source": [
        "def main():\n",
        "    affirmation = \"I am capable of doing anything I put my mind to.\"\n",
        "\n",
        "    print(f\"Please type the following affirmation: {affirmation}\")\n",
        "    user_input = input()\n",
        "\n",
        "    while user_input != affirmation:\n",
        "        print(\"Hmmm That was not the affirmation.\")\n",
        "        print(f\"Please type the following affirmation: {affirmation}\")\n",
        "        user_input = input()\n",
        "\n",
        "    print(\"That's right! :)\")\n",
        "\n",
        "\n",
        "if __name__ == '__main__':\n",
        "    main()\n"
      ],
      "metadata": {
        "colab": {
          "base_uri": "https://localhost:8080/"
        },
        "id": "Gc7Ax5H4os6p",
        "outputId": "62c8fd13-b62c-4750-e9f3-2f87f5cc24e5"
      },
      "execution_count": 8,
      "outputs": [
        {
          "output_type": "stream",
          "name": "stdout",
          "text": [
            "Please type the following affirmation: I am capable of doing anything I put my mind to.\n",
            "I am capable of doing anything I put my mind to.\n",
            "That's right! :)\n"
          ]
        }
      ]
    },
    {
      "cell_type": "code",
      "source": [
        "def main():\n",
        "    # Countdown from 10 to 1\n",
        "    for i in range(10, 0, -1):\n",
        "        print(i, end=' ')\n",
        "\n",
        "    print(\"Liftoff!\")\n",
        "\n",
        "\n",
        "if __name__ == '__main__':\n",
        "    main()\n"
      ],
      "metadata": {
        "colab": {
          "base_uri": "https://localhost:8080/"
        },
        "id": "2O93oGYRrVYM",
        "outputId": "5d0e9706-26bc-4d11-fac5-c6867e459f13"
      },
      "execution_count": 9,
      "outputs": [
        {
          "output_type": "stream",
          "name": "stdout",
          "text": [
            "10 9 8 7 6 5 4 3 2 1 Liftoff!\n"
          ]
        }
      ]
    },
    {
      "cell_type": "code",
      "source": [
        "def main():\n",
        "\n",
        "    curr_value = int(input(\"Enter a number: \"))\n",
        "\n",
        "\n",
        "    while curr_value < 100:\n",
        "        curr_value = curr_value * 2\n",
        "        print(curr_value, end=' ')\n",
        "\n",
        "if __name__ == '__main__':\n",
        "    main()\n"
      ],
      "metadata": {
        "colab": {
          "base_uri": "https://localhost:8080/"
        },
        "id": "000zl3JdrjWF",
        "outputId": "eaddfaf4-8989-429f-f22c-e010e089300e"
      },
      "execution_count": 10,
      "outputs": [
        {
          "output_type": "stream",
          "name": "stdout",
          "text": [
            "Enter a number: 10\n",
            "20 40 80 160 "
          ]
        }
      ]
    }
  ]
}