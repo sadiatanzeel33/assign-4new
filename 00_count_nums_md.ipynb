{
  "nbformat": 4,
  "nbformat_minor": 0,
  "metadata": {
    "colab": {
      "provenance": [],
      "authorship_tag": "ABX9TyNg9oQ/n09lBsYzu4annNoi",
      "include_colab_link": true
    },
    "kernelspec": {
      "name": "python3",
      "display_name": "Python 3"
    },
    "language_info": {
      "name": "python"
    }
  },
  "cells": [
    {
      "cell_type": "markdown",
      "metadata": {
        "id": "view-in-github",
        "colab_type": "text"
      },
      "source": [
        "<a href=\"https://colab.research.google.com/github/sadiatanzeel33/assign-4new/blob/main/00_count_nums_md.ipynb\" target=\"_parent\"><img src=\"https://colab.research.google.com/assets/colab-badge.svg\" alt=\"Open In Colab\"/></a>"
      ]
    },
    {
      "cell_type": "code",
      "execution_count": null,
      "metadata": {
        "colab": {
          "base_uri": "https://localhost:8080/"
        },
        "id": "4L6yErbzrr1x",
        "outputId": "01a509de-17d6-414a-e409-bc005d28da39"
      },
      "outputs": [
        {
          "output_type": "stream",
          "name": "stdout",
          "text": [
            "Enter a number (or type 'done' to finish): 10\n",
            "Enter a number (or type 'done' to finish): 15\n",
            "Enter a number (or type 'done' to finish): done\n",
            "10 appears 1 times.\n",
            "15 appears 1 times.\n"
          ]
        }
      ],
      "source": [
        "def main():\n",
        "    number_counts = {}\n",
        "\n",
        "    while True:\n",
        "\n",
        "        user_input = input(\"Enter a number (or type 'done' to finish): \")\n",
        "\n",
        "        if user_input.lower() == 'done':  # If the user types 'done', exit the loop\n",
        "            break\n",
        "\n",
        "        # Convert the input to an integer\n",
        "        try:\n",
        "            number = int(user_input)\n",
        "\n",
        "            # Update the count of the number in the dictionary\n",
        "            if number in number_counts:\n",
        "                number_counts[number] += 1\n",
        "            else:\n",
        "                number_counts[number] = 1\n",
        "        except ValueError:\n",
        "            print(\"Please enter a valid number.\")\n",
        "\n",
        "    # After the loop ends, print out the counts of each number\n",
        "    for number, count in number_counts.items():\n",
        "        print(f\"{number} appears {count} times.\")\n",
        "\n",
        "if __name__ == '__main__':\n",
        "    main()\n"
      ]
    },
    {
      "cell_type": "code",
      "source": [
        "def main():\n",
        "    counts = {}  # Dictionary to store number counts\n",
        "\n",
        "    while True:\n",
        "        user_input = input(\"Enter a number: \")\n",
        "        if user_input == \"\":\n",
        "            break\n",
        "        try:\n",
        "            number = int(user_input)\n",
        "            if number in counts:\n",
        "                counts[number] += 1\n",
        "            else:\n",
        "                counts[number] = 1\n",
        "        except ValueError:\n",
        "            print(\"Please enter a valid number.\")\n",
        "\n",
        "    for number, count in counts.items():\n",
        "        print(f\"{number} appears {count} times.\")\n",
        "\n",
        "\n",
        "\n",
        "if __name__ == '__main__':\n",
        "    main()\n"
      ],
      "metadata": {
        "id": "_juw8MkDu8wm",
        "colab": {
          "base_uri": "https://localhost:8080/"
        },
        "outputId": "dd7a20a7-2361-48ce-f864-df4439960318"
      },
      "execution_count": 1,
      "outputs": [
        {
          "output_type": "stream",
          "name": "stdout",
          "text": [
            "Enter a number: 1\n",
            "Enter a number: 1\n",
            "Enter a number: 1\n",
            "Enter a number: 4\n",
            "Enter a number: 3\n",
            "Enter a number: 4\n",
            "Enter a number: \n",
            "1 appears 3 times.\n",
            "4 appears 2 times.\n",
            "3 appears 1 times.\n"
          ]
        }
      ]
    },
    {
      "cell_type": "code",
      "source": [
        "def main():\n",
        "    phonebook = {}  # Dictionary to store contacts\n",
        "\n",
        "    while True:\n",
        "        print(\"\\nPhonebook Menu:\")\n",
        "        print(\"1. Add Contact\")\n",
        "        print(\"2. Search Contact\")\n",
        "        print(\"3. Delete Contact\")\n",
        "        print(\"4. Show All Contacts\")\n",
        "        print(\"5. Exit\")\n",
        "\n",
        "        choice = input(\"Choose an option: \")\n",
        "\n",
        "        if choice == '1':\n",
        "            name = input(\"Enter the contact name: \")\n",
        "            phone_number = input(\"Enter the phone number: \")\n",
        "            phonebook[name] = phone_number\n",
        "            print(f\"Contact {name} added.\")\n",
        "\n",
        "        elif choice == '2':\n",
        "            name = input(\"Enter the name to search: \")\n",
        "            if name in phonebook:\n",
        "                print(f\"{name}'s phone number is {phonebook[name]}\")\n",
        "            else:\n",
        "                print(f\"Contact {name} not found.\")\n",
        "\n",
        "        elif choice == '3':\n",
        "            name = input(\"Enter the name to delete: \")\n",
        "            if name in phonebook:\n",
        "                del phonebook[name]\n",
        "                print(f\"Contact {name} deleted.\")\n",
        "            else:\n",
        "                print(f\"Contact {name} not found.\")\n",
        "\n",
        "        elif choice == '4':\n",
        "            if phonebook:\n",
        "                print(\"\\nPhonebook Contacts:\")\n",
        "                for name, number in phonebook.items():\n",
        "                    print(f\"{name}: {number}\")\n",
        "            else:\n",
        "                print(\"Phonebook is empty.\")\n",
        "\n",
        "        elif choice == '5':\n",
        "            print(\"Exiting the phonebook.\")\n",
        "            break\n",
        "\n",
        "        else:\n",
        "            print(\"Invalid choice, please try again.\")\n",
        "\n",
        "if __name__ == '__main__':\n",
        "    main()\n",
        "\n"
      ],
      "metadata": {
        "colab": {
          "base_uri": "https://localhost:8080/"
        },
        "id": "DMMpAVpPgS8b",
        "outputId": "e9ad5d56-a337-47b9-9d45-04779f104c15"
      },
      "execution_count": 2,
      "outputs": [
        {
          "output_type": "stream",
          "name": "stdout",
          "text": [
            "\n",
            "Phonebook Menu:\n",
            "1. Add Contact\n",
            "2. Search Contact\n",
            "3. Delete Contact\n",
            "4. Show All Contacts\n",
            "5. Exit\n",
            "Choose an option: 4\n",
            "Phonebook is empty.\n",
            "\n",
            "Phonebook Menu:\n",
            "1. Add Contact\n",
            "2. Search Contact\n",
            "3. Delete Contact\n",
            "4. Show All Contacts\n",
            "5. Exit\n",
            "Choose an option: 5\n",
            "Exiting the phonebook.\n"
          ]
        }
      ]
    },
    {
      "cell_type": "code",
      "source": [
        "def main():\n",
        "\n",
        "    fruit_prices = {\n",
        "        \"apple\": 2.5,\n",
        "        \"durian\": 5.0,\n",
        "        \"jackfruit\": 3.5,\n",
        "        \"kiwi\": 4.0,\n",
        "        \"rambutan\": 7.0,\n",
        "        \"mango\": 3.0\n",
        "    }\n",
        "\n",
        "    total_cost = 0\n",
        "\n",
        "\n",
        "    for fruit, price in fruit_prices.items():\n",
        "\n",
        "        quantity = input(f\"How many ({fruit}) do you want?: \")\n",
        "\n",
        "        try:\n",
        "            quantity = int(quantity)\n",
        "            if quantity < 0:\n",
        "                print(\"Please enter a non-negative number.\")\n",
        "                continue\n",
        "\n",
        "            total_cost += quantity * price\n",
        "        except ValueError:\n",
        "            print(\"Please enter a valid number.\")\n",
        "\n",
        "\n",
        "    print(f\"\\nYour total is ${total_cost:.2f}\")\n",
        "\n",
        "\n",
        "if __name__ == '__main__':\n",
        "    main()\n"
      ],
      "metadata": {
        "colab": {
          "base_uri": "https://localhost:8080/"
        },
        "id": "uc7BdX8lixhH",
        "outputId": "cd832595-922f-46fe-a763-756931fc8176"
      },
      "execution_count": 5,
      "outputs": [
        {
          "output_type": "stream",
          "name": "stdout",
          "text": [
            "How many (apple) do you want?: 1\n",
            "How many (durian) do you want?: 2\n",
            "How many (jackfruit) do you want?: 3\n",
            "How many (kiwi) do you want?: 5\n",
            "How many (rambutan) do you want?: 4\n",
            "How many (mango) do you want?: 8\n",
            "\n",
            "Your total is $95.00\n"
          ]
        }
      ]
    },
    {
      "cell_type": "code",
      "source": [
        "import hashlib\n",
        "\n",
        "\n",
        "def hash_password(password):\n",
        "    return hashlib.sha256(password.encode()).hexdigest()\n",
        "\n",
        "def login(email, password_to_check, stored_logins):\n",
        "\n",
        "    hashed_input = hash_password(password_to_check)\n",
        "\n",
        "\n",
        "    if email in stored_logins:\n",
        "        return stored_logins[email] == hashed_input\n",
        "    else:\n",
        "        return False\n",
        "\n",
        "def main():\n",
        "\n",
        "    stored_logins = {\n",
        "        \"user1@example.com\": hash_password(\"monkey123\"),\n",
        "        \"user2@example.com\": hash_password(\"dragon456\"),\n",
        "        \"user3@example.com\": hash_password(\"letmein789\")\n",
        "    }\n",
        "\n",
        "\n",
        "    print(\"Login 1:\", login(\"user1@example.com\", \"monkey123\", stored_logins))\n",
        "    print(\"Login 2:\", login(\"user2@example.com\", \"wrongpassword\", stored_logins))\n",
        "    print(\"Login 3:\", login(\"user4@example.com\", \"whatever\", stored_logins))\n",
        "\n",
        "\n",
        "if __name__ == '__main__':\n",
        "    main()\n"
      ],
      "metadata": {
        "colab": {
          "base_uri": "https://localhost:8080/"
        },
        "id": "IRMhPiXUjfKZ",
        "outputId": "2a855eae-2edc-4940-bab1-019e215afefc"
      },
      "execution_count": 6,
      "outputs": [
        {
          "output_type": "stream",
          "name": "stdout",
          "text": [
            "Login 1: True\n",
            "Login 2: False\n",
            "Login 3: False\n"
          ]
        }
      ]
    }
  ]
}