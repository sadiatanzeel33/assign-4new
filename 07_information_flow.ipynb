{
  "nbformat": 4,
  "nbformat_minor": 0,
  "metadata": {
    "colab": {
      "provenance": [],
      "authorship_tag": "ABX9TyMnlGPVOX62ZTSkLx6sjr0T",
      "include_colab_link": true
    },
    "kernelspec": {
      "name": "python3",
      "display_name": "Python 3"
    },
    "language_info": {
      "name": "python"
    }
  },
  "cells": [
    {
      "cell_type": "markdown",
      "metadata": {
        "id": "view-in-github",
        "colab_type": "text"
      },
      "source": [
        "<a href=\"https://colab.research.google.com/github/sadiatanzeel33/assign-4new/blob/main/07_information_flow.ipynb\" target=\"_parent\"><img src=\"https://colab.research.google.com/assets/colab-badge.svg\" alt=\"Open In Colab\"/></a>"
      ]
    },
    {
      "cell_type": "code",
      "execution_count": 1,
      "metadata": {
        "colab": {
          "base_uri": "https://localhost:8080/"
        },
        "id": "qrZgebgBzKTH",
        "outputId": "33ba0d7a-dfd8-404c-c518-ece4ac30f9f0"
      },
      "outputs": [
        {
          "output_type": "stream",
          "name": "stdout",
          "text": [
            "How old is this person?: 17\n",
            "False\n"
          ]
        }
      ],
      "source": [
        "ADULT_AGE = 18\n",
        "\n",
        "def is_adult(age):\n",
        "    \"\"\"\n",
        "    Checks if a given age is greater than or equal to the legal adult age.\n",
        "\n",
        "    Args:\n",
        "        age (int): The age to check.\n",
        "\n",
        "    Returns:\n",
        "        bool: True if the age is an adult age, False otherwise.\n",
        "    \"\"\"\n",
        "    if age >= ADULT_AGE:\n",
        "        return True\n",
        "    else:\n",
        "        return False\n",
        "\n",
        "def main():\n",
        "    try:\n",
        "        user_age_str = input(\"How old is this person?: \")\n",
        "        user_age = int(user_age_str)\n",
        "        result = is_adult(user_age)\n",
        "        print(result)\n",
        "    except ValueError:\n",
        "        print(\"Invalid input. Please enter an integer for the age.\")\n",
        "\n",
        "if __name__ == '__main__':\n",
        "    main()"
      ]
    },
    {
      "cell_type": "code",
      "source": [
        "def greet(name):\n",
        "    \"\"\"\n",
        "    This function takes a name as input and prints a greeting.\n",
        "    \"\"\"\n",
        "    print(f\"Greetings {name}!\")\n",
        "\n",
        "def main():\n",
        "    user_name = input(\"What's your name? \")\n",
        "    greet(user_name)\n",
        "\n",
        "if __name__ == '__main__':\n",
        "    main()"
      ],
      "metadata": {
        "colab": {
          "base_uri": "https://localhost:8080/"
        },
        "id": "yzRRyrh8z-TY",
        "outputId": "020ddcc9-a7bb-4306-9dda-a0c3d423eabf"
      },
      "execution_count": 2,
      "outputs": [
        {
          "output_type": "stream",
          "name": "stdout",
          "text": [
            "What's your name? ali\n",
            "Greetings ali!\n"
          ]
        }
      ]
    },
    {
      "cell_type": "code",
      "source": [
        "def in_range(n, low, high):\n",
        "    \"\"\"\n",
        "    Returns True if n is between low and high, inclusive.\n",
        "    high is guaranteed to be greater than low.\n",
        "    \"\"\"\n",
        "    return low <= n <= high\n",
        "\n",
        "def main():\n",
        "\n",
        "    print(in_range(5, 1, 10))   # Output: True\n",
        "    print(in_range(0, 1, 10))   # Output: False\n",
        "    print(in_range(10, 1, 10))  # Output: True\n",
        "    print(in_range(1, 1, 10))   # Output: True\n",
        "    print(in_range(7, 7, 7))    # Output: True (inclusive)\n",
        "\n",
        "\n",
        "    try:\n",
        "        num = int(input(\"Enter a number: \"))\n",
        "        lower_bound = int(input(\"Enter the lower bound: \"))\n",
        "        upper_bound = int(input(\"Enter the upper bound: \"))\n",
        "\n",
        "        if in_range(num, lower_bound, upper_bound):\n",
        "            print(f\"{num} is in the range [{lower_bound}, {upper_bound}]\")\n",
        "        else:\n",
        "            print(f\"{num} is not in the range [{lower_bound}, {upper_bound}]\")\n",
        "\n",
        "    except ValueError:\n",
        "        print(\"Invalid input. Please enter integers.\")\n",
        "\n",
        "if __name__ == '__main__':\n",
        "    main()"
      ],
      "metadata": {
        "colab": {
          "base_uri": "https://localhost:8080/"
        },
        "id": "O8q5mN_G0MZc",
        "outputId": "048e2747-54bb-4f80-94f7-fd4e0a9d4aa2"
      },
      "execution_count": 3,
      "outputs": [
        {
          "output_type": "stream",
          "name": "stdout",
          "text": [
            "True\n",
            "False\n",
            "True\n",
            "True\n",
            "True\n",
            "Enter a number: 10\n",
            "Enter the lower bound: 5\n",
            "Enter the upper bound: 1\n",
            "10 is not in the range [5, 1]\n"
          ]
        }
      ]
    },
    {
      "cell_type": "code",
      "source": [
        "inventory = {\n",
        "    \"apple\": 500,\n",
        "    \"banana\": 200,\n",
        "    \"orange\": 300,\n",
        "    \"grape\": 750,\n",
        "    \"pear\": 1000,\n",
        "    \"mango\": 150,\n",
        "    \"strawberry\": 600\n",
        "}\n",
        "\n",
        "def num_in_stock(fruit):\n",
        "    \"\"\"\n",
        "    Returns the number of a given fruit in Sophia's inventory.\n",
        "    Returns 0 if the fruit is not in the inventory.\n",
        "    \"\"\"\n",
        "    return inventory.get(fruit.lower(), 0)\n",
        "\n",
        "def main():\n",
        "    user_fruit = input(\"Enter a fruit: \")\n",
        "    stock_count = num_in_stock(user_fruit)\n",
        "\n",
        "    if stock_count > 0:\n",
        "        print(\"This fruit is in stock! Here is how many:\")\n",
        "        print(stock_count)\n",
        "    else:\n",
        "        print(\"This fruit is not in stock.\")\n",
        "\n",
        "if __name__ == '__main__':\n",
        "    main()"
      ],
      "metadata": {
        "colab": {
          "base_uri": "https://localhost:8080/"
        },
        "id": "pyysyqwP0mQ1",
        "outputId": "2f2360b5-a843-4de3-df05-e62251c9e5fc"
      },
      "execution_count": 4,
      "outputs": [
        {
          "output_type": "stream",
          "name": "stdout",
          "text": [
            "Enter a fruit: apple\n",
            "This fruit is in stock! Here is how many:\n",
            "500\n"
          ]
        }
      ]
    },
    {
      "cell_type": "code",
      "source": [
        "def get_user_data():\n",
        "\n",
        "    first_name = input(\"What is your first name?: \")\n",
        "    last_name = input(\"What is your last name?: \")\n",
        "    email = input(\"What is your email address?: \")\n",
        "    return first_name, last_name, email\n",
        "\n",
        "def main():\n",
        "    user_info = get_user_data()\n",
        "    print(f\"Received the following user data: {user_info}\")\n",
        "\n",
        "if __name__ == '__main__':\n",
        "    main()"
      ],
      "metadata": {
        "colab": {
          "base_uri": "https://localhost:8080/"
        },
        "id": "UCBSiSz-05aU",
        "outputId": "c9e7da70-c7d7-4283-f6a7-6d7188b69f17"
      },
      "execution_count": 5,
      "outputs": [
        {
          "output_type": "stream",
          "name": "stdout",
          "text": [
            "What is your first name?: sadia\n",
            "What is your last name?: tanzeel\n",
            "What is your email address?: sadia_t82@gmail.com\n",
            "Received the following user data: ('sadia', 'tanzeel', 'sadia_t82@gmail.com')\n"
          ]
        }
      ]
    },
    {
      "cell_type": "code",
      "source": [
        "def subtract_seven(num):\n",
        "\n",
        "    return num - 7\n",
        "\n",
        "def main():\n",
        "    try:\n",
        "        user_input = input(\"Enter a number: \")\n",
        "        number = int(user_input)\n",
        "        result = subtract_seven(number)\n",
        "        print(f\"The result after subtracting 7 is: {result}\")\n",
        "    except ValueError:\n",
        "        print(\"Invalid input. Please enter an integer.\")\n",
        "\n",
        "if __name__ == '__main__':\n",
        "    main()"
      ],
      "metadata": {
        "colab": {
          "base_uri": "https://localhost:8080/"
        },
        "id": "a-xh6UHN1T7_",
        "outputId": "d04cdfc3-b5f9-4aa2-f641-0deb3486befc"
      },
      "execution_count": 6,
      "outputs": [
        {
          "output_type": "stream",
          "name": "stdout",
          "text": [
            "Enter a number: 10\n",
            "The result after subtracting 7 is: 3\n"
          ]
        }
      ]
    }
  ]
}