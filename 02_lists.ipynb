{
  "nbformat": 4,
  "nbformat_minor": 0,
  "metadata": {
    "colab": {
      "provenance": [],
      "authorship_tag": "ABX9TyMV5BDDCszXJ494ALdgUQvW",
      "include_colab_link": true
    },
    "kernelspec": {
      "name": "python3",
      "display_name": "Python 3"
    },
    "language_info": {
      "name": "python"
    }
  },
  "cells": [
    {
      "cell_type": "markdown",
      "metadata": {
        "id": "view-in-github",
        "colab_type": "text"
      },
      "source": [
        "<a href=\"https://colab.research.google.com/github/sadiatanzeel33/assign-4new/blob/main/02_lists.ipynb\" target=\"_parent\"><img src=\"https://colab.research.google.com/assets/colab-badge.svg\" alt=\"Open In Colab\"/></a>"
      ]
    },
    {
      "cell_type": "code",
      "execution_count": 1,
      "metadata": {
        "colab": {
          "base_uri": "https://localhost:8080/"
        },
        "id": "y8Kn1fqyLJQt",
        "outputId": "a34022e3-4769-468e-ba4c-42a1c3ae5ceb"
      },
      "outputs": [
        {
          "output_type": "stream",
          "name": "stdout",
          "text": [
            "The sum of the numbers is: 15\n"
          ]
        }
      ],
      "source": [
        "def main():\n",
        "\n",
        "    numbers = [1, 2, 3, 4, 5]\n",
        "    print(f\"The sum of the numbers is: {sum_of_numbers(numbers)}\")\n",
        "\n",
        "def sum_of_numbers(numbers):\n",
        "    return sum(numbers)\n",
        "\n",
        "\n",
        "if __name__ == '__main__':\n",
        "    main()\n"
      ]
    },
    {
      "cell_type": "code",
      "source": [
        "def main():\n",
        "    # Define the original list of numbers\n",
        "    numbers = [8, 9, 10, 11]\n",
        "\n",
        "    # Call the function to double each number in the list\n",
        "    doubled_numbers = double_elements(numbers)\n",
        "\n",
        "    # Print the result\n",
        "    print(f\"Doubled numbers: {doubled_numbers}\")\n",
        "\n",
        "def double_elements(numbers):\n",
        "    # Function to double each element in the list\n",
        "    return [number * 2 for number in numbers]\n",
        "\n",
        "# This provided line is required at the end of\n",
        "# the Python file to call the main() function.\n",
        "if __name__ == '__main__':\n",
        "    main()\n"
      ],
      "metadata": {
        "colab": {
          "base_uri": "https://localhost:8080/"
        },
        "id": "H8hdEls0QrdR",
        "outputId": "03c751e2-8cb0-466a-c5ad-f8753e52e968"
      },
      "execution_count": 5,
      "outputs": [
        {
          "output_type": "stream",
          "name": "stdout",
          "text": [
            "Doubled numbers: [16, 18, 20, 22]\n"
          ]
        }
      ]
    },
    {
      "cell_type": "code",
      "source": [
        "import pygame\n",
        "\n",
        "# Initialize Pygame\n",
        "pygame.init()\n",
        "\n",
        "# Set up canvas dimensions and colors\n",
        "screen_width, screen_height = 800, 600\n",
        "cell_size = 40\n",
        "blue = (0, 0, 255)\n",
        "white = (255, 255, 255)\n",
        "eraser_color = (200, 200, 200)\n",
        "\n",
        "# Create the screen\n",
        "screen = pygame.display.set_mode((screen_width, screen_height))\n",
        "pygame.display.set_caption(\"Canvas with Eraser\")\n",
        "\n",
        "# Draw a grid of blue cells\n",
        "def draw_grid():\n",
        "    for x in range(0, screen_width, cell_size):\n",
        "        for y in range(0, screen_height, cell_size):\n",
        "            pygame.draw.rect(screen, blue, (x, y, cell_size, cell_size))\n",
        "\n",
        "def main():\n",
        "    # Variables for the eraser\n",
        "    eraser_size = 60\n",
        "    eraser_pos = [100, 100]\n",
        "\n",
        "    running = True\n",
        "    while running:\n",
        "        for event in pygame.event.get():\n",
        "            if event.type == pygame.QUIT:\n",
        "                running = False\n",
        "\n",
        "            # Move the eraser with mouse motion\n",
        "            if event.type == pygame.MOUSEMOTION:\n",
        "                eraser_pos = event.pos\n",
        "# Redraw the grid and eraser\n",
        "        screen.fill(white)\n",
        "        draw_grid()\n",
        "\n",
        "        # Erase blue cells where the eraser overlaps\n",
        "        for x in range(0, screen_width, cell_size):\n",
        "            for y in range(0, screen_height, cell_size):\n",
        "                rect = pygame.Rect(x, y, cell_size, cell_size)\n",
        "                eraser_rect = pygame.Rect(eraser_pos[0], eraser_pos[1], eraser_size, eraser_size)\n",
        "                if eraser_rect.colliderect(rect):\n",
        "                    pygame.draw.rect(screen, white, rect)\n",
        "         # Draw the eraser rectangle\n",
        "        pygame.draw.rect(screen, eraser_color, (eraser_pos[0], eraser_pos[1], eraser_size, eraser_size))\n",
        "\n",
        "       # Update the display\n",
        "        pygame.display.flip()\n",
        "\n",
        "    pygame.quit()\n",
        "\n",
        ""
      ],
      "metadata": {
        "id": "4RcgYC_yQ944"
      },
      "execution_count": 19,
      "outputs": []
    },
    {
      "cell_type": "code",
      "source": [
        "def main():\n",
        "\n",
        "    message = input(\"Enter a message to copy: \")\n",
        "\n",
        "    # Initialize an empty list\n",
        "    data_list = []\n",
        "\n",
        "    # Display the list before modification\n",
        "    print(f\"List before: {data_list}\")\n",
        "\n",
        "    # Call the function to add three copies of the message to the list\n",
        "    add_three_copies(data_list, message)\n",
        "\n",
        "    # Display the list after modification\n",
        "    print(f\"List after: {data_list}\")\n",
        "\n",
        "def add_three_copies(data_list, message):\n",
        "    # Add three copies of the message to the list\n",
        "    for _ in range(3):\n",
        "        data_list.append(message)\n",
        "\n",
        "# This provided line is required at the end of\n",
        "# the Python file to call the main() function.\n",
        "if __name__ == '__main__':\n",
        "    main()\n"
      ],
      "metadata": {
        "colab": {
          "base_uri": "https://localhost:8080/"
        },
        "id": "w1KvyCpcchZk",
        "outputId": "f7cd5cfb-8c7d-4f37-8b60-d5f9c1a2fd16"
      },
      "execution_count": 21,
      "outputs": [
        {
          "output_type": "stream",
          "name": "stdout",
          "text": [
            "Enter a message to copy: pakistan zindabad\n",
            "List before: []\n",
            "List after: ['pakistan zindabad', 'pakistan zindabad', 'pakistan zindabad']\n"
          ]
        }
      ]
    },
    {
      "cell_type": "code",
      "source": [
        "def main():\n",
        "\n",
        "    n = int(input(\"Enter the number of elements in the list: \"))\n",
        "    lst = []\n",
        "    for _ in range(n):\n",
        "        element = input(\"Enter an element: \")\n",
        "        lst.append(element)\n",
        "\n",
        "    # Call the get_first_element function to print the first element\n",
        "    get_first_element(lst)\n",
        "\n",
        "def get_first_element(lst):\n",
        "    # Print the first element of the list\n",
        "    print(f\"The first element in the list is: {lst[0]}\")\n",
        "\n",
        "if __name__ == '__main__':\n",
        "    main()\n"
      ],
      "metadata": {
        "colab": {
          "base_uri": "https://localhost:8080/"
        },
        "id": "b5mW-TwKdabk",
        "outputId": "2d680239-9550-40b8-8a14-4f6f226ec419"
      },
      "execution_count": 34,
      "outputs": [
        {
          "output_type": "stream",
          "name": "stdout",
          "text": [
            "Enter the number of elements in the list: 3\n",
            "Enter an element: apple\n",
            "Enter an element: banana\n",
            "Enter an element: pineapple\n",
            "The first element in the list is: apple\n"
          ]
        }
      ]
    },
    {
      "cell_type": "code",
      "source": [
        "def main():\n",
        "\n",
        "    n = int(input(\"Enter the number of elements in the list: \"))\n",
        "    lst = []\n",
        "    for _ in range(n):\n",
        "        element = input(\"Enter an element: \")\n",
        "        lst.append(element)\n",
        "\n",
        "    # Call the function to print the last element\n",
        "    get_last_element(lst)\n",
        "\n",
        "def get_last_element(lst):\n",
        "    # Print the last element of the list\n",
        "    print(f\"The last element in the list is: {lst[-1]}\")\n",
        "\n",
        "if __name__ == '__main__':\n",
        "    main()\n"
      ],
      "metadata": {
        "colab": {
          "base_uri": "https://localhost:8080/"
        },
        "id": "2ZmGyvHRiUZT",
        "outputId": "95267813-3faf-4291-979d-4994b4b967f5"
      },
      "execution_count": 35,
      "outputs": [
        {
          "output_type": "stream",
          "name": "stdout",
          "text": [
            "Enter the number of elements in the list: 4\n",
            "Enter an element: apple\n",
            "Enter an element: banana\n",
            "Enter an element: papaya\n",
            "Enter an element: cherry\n",
            "The last element in the list is: cherry\n"
          ]
        }
      ]
    },
    {
      "cell_type": "code",
      "source": [
        "def main():\n",
        "    # Initialize an empty list to store values\n",
        "    values = []\n",
        "\n",
        "    while True:\n",
        "        # Prompt the user to enter a value\n",
        "        value = input(\"Enter a value: \")\n",
        "\n",
        "        # If the user presses enter without typing anything, break the loop\n",
        "        if value == \"\":\n",
        "            break\n",
        "\n",
        "        # Add the value to the list\n",
        "        values.append(value)\n",
        "\n",
        "    # Print the final list\n",
        "    print(f\"Here's the list: {values}\")\n",
        "\n",
        "if __name__ == '__main__':\n",
        "    main()\n"
      ],
      "metadata": {
        "colab": {
          "base_uri": "https://localhost:8080/"
        },
        "id": "wfkwuRuqi7DE",
        "outputId": "95f21996-7db8-4bf5-d181-2a587061e99d"
      },
      "execution_count": 36,
      "outputs": [
        {
          "output_type": "stream",
          "name": "stdout",
          "text": [
            "Enter a value: 4\n",
            "Enter a value: 5\n",
            "Enter a value: 6\n",
            "Enter a value: 7\n",
            "Enter a value: 8\n",
            "Enter a value: 9\n",
            "Enter a value: 10\n",
            "Enter a value: 11\n",
            "Enter a value: 12\n",
            "Enter a value: 13\n",
            "Enter a value: 14\n",
            "Enter a value: 15\n",
            "Enter a value: \n",
            "Here's the list: ['4', '5', '6', '7', '8', '9', '10', '11', '12', '13', '14', '15']\n"
          ]
        }
      ]
    },
    {
      "cell_type": "code",
      "source": [
        "MAX_LENGTH = 3  # Define the maximum length for the list\n",
        "\n",
        "def main():\n",
        "\n",
        "    lst = [\"apple\", \"banana\", \"cherry\", \"date\", \"elderberry\"]\n",
        "    print(f\"Original list: {lst}\")\n",
        "\n",
        "\n",
        "    shorten(lst)\n",
        "    print(f\"Modified list: {lst}\")\n",
        "\n",
        "def shorten(lst):\n",
        "    # Remove elements from the end of the list until its length is MAX_LENGTH\n",
        "    while len(lst) > MAX_LENGTH:\n",
        "        removed_element = lst.pop()\n",
        "        print(f\"Removed: {removed_element}\")\n",
        "\n",
        "if __name__ == '__main__':\n",
        "    main()\n"
      ],
      "metadata": {
        "colab": {
          "base_uri": "https://localhost:8080/"
        },
        "id": "SaTaHtwfjn3M",
        "outputId": "e04a89a8-c8df-4c18-c300-53cb06337518"
      },
      "execution_count": 37,
      "outputs": [
        {
          "output_type": "stream",
          "name": "stdout",
          "text": [
            "Original list: ['apple', 'banana', 'cherry', 'date', 'elderberry']\n",
            "Removed: elderberry\n",
            "Removed: date\n",
            "Modified list: ['apple', 'banana', 'cherry']\n"
          ]
        }
      ]
    }
  ]
}