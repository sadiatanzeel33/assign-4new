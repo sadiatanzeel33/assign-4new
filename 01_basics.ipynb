{
  "nbformat": 4,
  "nbformat_minor": 0,
  "metadata": {
    "colab": {
      "provenance": [],
      "authorship_tag": "ABX9TyMQc2Equscjo8dYf6/qs17J",
      "include_colab_link": true
    },
    "kernelspec": {
      "name": "python3",
      "display_name": "Python 3"
    },
    "language_info": {
      "name": "python"
    }
  },
  "cells": [
    {
      "cell_type": "markdown",
      "metadata": {
        "id": "view-in-github",
        "colab_type": "text"
      },
      "source": [
        "<a href=\"https://colab.research.google.com/github/sadiatanzeel33/assign-4new/blob/main/01_basics.ipynb\" target=\"_parent\"><img src=\"https://colab.research.google.com/assets/colab-badge.svg\" alt=\"Open In Colab\"/></a>"
      ]
    },
    {
      "cell_type": "code",
      "execution_count": 1,
      "metadata": {
        "colab": {
          "base_uri": "https://localhost:8080/"
        },
        "id": "yY_vffit3TgY",
        "outputId": "6e6572df-515c-4afe-e6df-5fb39591006d"
      },
      "outputs": [
        {
          "output_type": "stream",
          "name": "stdout",
          "text": [
            "What do you want? prompt\n",
            "Sorry I only tell jokes\n"
          ]
        }
      ],
      "source": [
        "PROMPT = \"What do you want? \"\n",
        "JOKE = \"Here is a joke for you! Panaversity GPT - Sophia is heading out to the grocery store. A programmer tells her: get a liter of milk, and if they have eggs, get 12. Sophia returns with 13 liters of milk. The programmer asks why and Sophia replies: 'because they had eggs'\"\n",
        "SORRY = \"Sorry I only tell jokes\"\n",
        "JOKE_REQUEST = \"Joke\"\n",
        "\n",
        "def main():\n",
        "    user_input = input(PROMPT)\n",
        "    if user_input == JOKE_REQUEST:\n",
        "        print(JOKE)\n",
        "    else:\n",
        "        print(SORRY)\n",
        "\n",
        "if __name__ == '__main__':\n",
        "    main()"
      ]
    },
    {
      "cell_type": "code",
      "source": [
        "def main():\n",
        "    try:\n",
        "        user_input = input(\"Enter a number: \")\n",
        "        curr_value = int(user_input)\n",
        "\n",
        "        while curr_value < 100:\n",
        "            print(curr_value, end=\" \")\n",
        "            curr_value = curr_value * 2\n",
        "        print(curr_value) # Print the final value that is 100 or greater\n",
        "\n",
        "    except ValueError:\n",
        "        print(\"Invalid input. Please enter an integer.\")\n",
        "\n",
        "if __name__ == '__main__':\n",
        "    main()"
      ],
      "metadata": {
        "colab": {
          "base_uri": "https://localhost:8080/"
        },
        "id": "e4BiT7_V434p",
        "outputId": "e1d71634-52a8-4e91-baad-789cafe03adf"
      },
      "execution_count": 2,
      "outputs": [
        {
          "output_type": "stream",
          "name": "stdout",
          "text": [
            "Enter a number: 100\n",
            "100\n"
          ]
        }
      ]
    },
    {
      "cell_type": "code",
      "source": [
        "def main():\n",
        "    for i in range(10):\n",
        "        print(10 - i, end=\" \")\n",
        "    print(\"Liftoff!\")\n",
        "\n",
        "if __name__ == '__main__':\n",
        "    main()"
      ],
      "metadata": {
        "colab": {
          "base_uri": "https://localhost:8080/"
        },
        "id": "HTrSdIyE5OSi",
        "outputId": "9238a841-98e0-4d4c-e49b-906168513d20"
      },
      "execution_count": 3,
      "outputs": [
        {
          "output_type": "stream",
          "name": "stdout",
          "text": [
            "10 9 8 7 6 5 4 3 2 1 Liftoff!\n"
          ]
        }
      ]
    },
    {
      "cell_type": "code",
      "source": [
        "import random\n",
        "\n",
        "def main():\n",
        "    secret_number = random.randint(0, 99)\n",
        "    print(\"Guess My Number\")\n",
        "    print(\"I am thinking of a number between 0 and 99...\")\n",
        "\n",
        "    while True:\n",
        "        try:\n",
        "            guess_str = input(\"Enter a guess: \")\n",
        "            guess = int(guess_str)\n",
        "\n",
        "            if guess < 0 or guess > 99:\n",
        "                print(\"Your guess must be between 0 and 99.\")\n",
        "                continue\n",
        "\n",
        "            if guess < secret_number:\n",
        "                print(\"Your guess is too low\")\n",
        "            elif guess > secret_number:\n",
        "                print(\"Your guess is too high\")\n",
        "            else:\n",
        "                print(f\"Congrats! The number was: {secret_number}\")\n",
        "                break\n",
        "\n",
        "        except ValueError:\n",
        "            print(\"Invalid input. Please enter an integer.\")\n",
        "\n",
        "if __name__ == '__main__':\n",
        "    main()"
      ],
      "metadata": {
        "colab": {
          "base_uri": "https://localhost:8080/"
        },
        "id": "OD7cSkIL5fZK",
        "outputId": "430ef57f-2b56-4f60-db9f-fc76655d2b5d"
      },
      "execution_count": 5,
      "outputs": [
        {
          "output_type": "stream",
          "name": "stdout",
          "text": [
            "Guess My Number\n",
            "I am thinking of a number between 0 and 99...\n",
            "Enter a guess: 55\n",
            "Your guess is too low\n",
            "Enter a guess: 22\n",
            "Your guess is too low\n",
            "Enter a guess: 36\n",
            "Your guess is too low\n",
            "Enter a guess: 40\n",
            "Your guess is too low\n",
            "Enter a guess: 66\n",
            "Your guess is too high\n",
            "Enter a guess: 60\n",
            "Your guess is too high\n",
            "Enter a guess: 58\n",
            "Your guess is too high\n",
            "Enter a guess: 50\n",
            "Your guess is too low\n",
            "Enter a guess: 52\n",
            "Your guess is too low\n",
            "Enter a guess: 53\n",
            "Your guess is too low\n",
            "Enter a guess: 54\n",
            "Your guess is too low\n",
            "Enter a guess: 55\n",
            "Your guess is too low\n",
            "Enter a guess: 56\n",
            "Congrats! The number was: 56\n"
          ]
        }
      ]
    },
    {
      "cell_type": "code",
      "source": [
        "import random\n",
        "\n",
        "N_NUMBERS: int = 10\n",
        "MIN_VALUE: int = 1\n",
        "MAX_VALUE: int = 100\n",
        "\n",
        "def main():\n",
        "    \"\"\"\n",
        "    Prints 10 random numbers in the range 1 to 100.\n",
        "    \"\"\"\n",
        "    for _ in range(N_NUMBERS):\n",
        "        random_number = random.randint(MIN_VALUE, MAX_VALUE)\n",
        "        print(random_number, end=\" \")\n",
        "    print()\n",
        "\n",
        "if __name__ == '__main__':\n",
        "    main()"
      ],
      "metadata": {
        "colab": {
          "base_uri": "https://localhost:8080/"
        },
        "id": "u-BoNdhk6jdz",
        "outputId": "c43d8d62-06ed-4503-ce0d-834a10e9d449"
      },
      "execution_count": 6,
      "outputs": [
        {
          "output_type": "stream",
          "name": "stdout",
          "text": [
            "24 70 36 38 46 97 44 85 34 39 \n"
          ]
        }
      ]
    }
  ]
}