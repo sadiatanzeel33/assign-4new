{
  "cells": [
    {
      "cell_type": "markdown",
      "metadata": {
        "id": "view-in-github",
        "colab_type": "text"
      },
      "source": [
        "<a href=\"https://colab.research.google.com/github/sadiatanzeel33/assign-4new/blob/main/Projects1_6.ipynb\" target=\"_parent\"><img src=\"https://colab.research.google.com/assets/colab-badge.svg\" alt=\"Open In Colab\"/></a>"
      ]
    },
    {
      "cell_type": "code",
      "execution_count": null,
      "metadata": {
        "colab": {
          "base_uri": "https://localhost:8080/"
        },
        "id": "6WNBM5NjBLDv",
        "outputId": "26d7da38-4ec3-4072-9a7d-039c93753694"
      },
      "outputs": [
        {
          "name": "stdout",
          "output_type": "stream",
          "text": [
            "Enter a noun: dog\n",
            "Enter an adjective: fluffy\n",
            "Enter a verb (present tense): sing\n",
            "Enter an adverb: loudly\n",
            "Enter a famous person: Taylor Swift\n",
            "\n",
            "Here's your Mad Libs story:\n",
            "Today I went to the zoo. I saw a fluffy dog jumping up and down in its enclosure. It was loudly trying to sing with Taylor Swift. It made me feel very fluffy.\n"
          ]
        }
      ],
      "source": [
        "def mad_libs():\n",
        "    \"\"\"Generates a Mad Libs story based on user input.\"\"\"\n",
        "\n",
        "    noun = input(\"Enter a noun: \")\n",
        "    adjective = input(\"Enter an adjective: \")\n",
        "    verb = input(\"Enter a verb (present tense): \")\n",
        "    adverb = input(\"Enter an adverb: \")\n",
        "    famous_person = input(\"Enter a famous person: \")\n",
        "\n",
        "    story = f\"Today I went to the zoo. I saw a {adjective} {noun} jumping up and down in its enclosure. \" \\\n",
        "            f\"It was {adverb} trying to {verb} with {famous_person}. It made me feel very {adjective}.\"\n",
        "\n",
        "    print(\"\\nHere's your Mad Libs story:\")\n",
        "    print(story)\n",
        "\n",
        "if __name__ == \"__main__\":\n",
        "    mad_libs()"
      ]
    },
    {
      "cell_type": "code",
      "execution_count": null,
      "metadata": {
        "colab": {
          "base_uri": "https://localhost:8080/"
        },
        "id": "Zq_OUueOEyDk",
        "outputId": "7c3bba85-6b48-4dfe-a58e-82dd90b90b05"
      },
      "outputs": [
        {
          "name": "stdout",
          "output_type": "stream",
          "text": [
            "Think of a number between 1 and 100, and I will try to guess it.\n",
            "Is 12 too high (H), too low (L), or correct (C)?\n",
            "85\n",
            "Is 30 too high (H), too low (L), or correct (C)?\n",
            "low\n",
            "Is 57 too high (H), too low (L), or correct (C)?\n",
            "H\n",
            "Is 23 too high (H), too low (L), or correct (C)?\n",
            "L\n",
            "Is 51 too high (H), too low (L), or correct (C)?\n",
            "C\n",
            "Yay! The computer guessed your number, 51, correctly!\n"
          ]
        }
      ],
      "source": [
        "import random\n",
        "\n",
        "def computer_guess(x):\n",
        "    \"\"\"\n",
        "    The computer tries to guess a number chosen by the user between 1 and x.\n",
        "    \"\"\"\n",
        "    low = 1\n",
        "    high = x\n",
        "    feedback = ''\n",
        "    while feedback != 'c':\n",
        "        if low != high:\n",
        "            guess = random.randint(low, high)\n",
        "        else:\n",
        "            guess = low\n",
        "        print(f\"Is {guess} too high (H), too low (L), or correct (C)?\")\n",
        "        feedback = input().lower()\n",
        "        if feedback == 'h':\n",
        "            high = guess - 1\n",
        "        elif feedback == 'l':\n",
        "            low = guess + 1\n",
        "\n",
        "    print(f\"Yay! The computer guessed your number, {guess}, correctly!\")\n",
        "\n",
        "def main():\n",
        "    print(\"Think of a number between 1 and 100, and I will try to guess it.\")\n",
        "    computer_guess(100)\n",
        "\n",
        "if __name__ == \"__main__\":\n",
        "    main()"
      ]
    },
    {
      "cell_type": "code",
      "execution_count": null,
      "metadata": {
        "colab": {
          "background_save": true,
          "base_uri": "https://localhost:8080/"
        },
        "id": "6dmt1V0xFjF_",
        "outputId": "161f9610-eb1c-4f6c-8e0e-776a19c975b1"
      },
      "outputs": [
        {
          "name": "stdout",
          "output_type": "stream",
          "text": [
            "Let's play Rock, Paper, Scissors!\n",
            "\n",
            "You chose p, computer chose s.\n",
            "\n",
            "You lose!\n",
            "\n",
            "You chose s, computer chose p.\n",
            "\n",
            "You win!\n"
          ]
        }
      ],
      "source": [
        "import random\n",
        "\n",
        "def play():\n",
        "    user_choice = get_user_choice()\n",
        "    computer_choice = get_computer_choice()\n",
        "    print(f\"\\nYou chose {user_choice}, computer chose {computer_choice}.\\n\")\n",
        "\n",
        "    if user_choice == computer_choice:\n",
        "        return \"It's a tie!\"\n",
        "    elif is_win(user_choice, computer_choice):\n",
        "        return \"You win!\"\n",
        "    else:\n",
        "        return \"You lose!\"\n",
        "\n",
        "def get_user_choice():\n",
        "    while True:\n",
        "        user_pick = input(\"What do you choose? 'r' for rock, 'p' for paper, 's' for scissors: \").lower()\n",
        "        if user_pick in ['r', 'p', 's']:\n",
        "            return user_pick\n",
        "        else:\n",
        "            print(\"Invalid choice. Please enter 'r', 'p', or 's'.\")\n",
        "\n",
        "def get_computer_choice():\n",
        "    choices = ['r', 'p', 's']\n",
        "    return random.choice(choices)\n",
        "\n",
        "def is_win(player, opponent):\n",
        "    # return true if player wins\n",
        "    # r > s, s > p, p > r\n",
        "    if (player == 'r' and opponent == 's') or \\\n",
        "       (player == 's' and opponent == 'p') or \\\n",
        "       (player == 'p' and opponent == 'r'):\n",
        "        return True\n",
        "    return False\n",
        "\n",
        "if __name__ == '__main__':\n",
        "    print(\"Let's play Rock, Paper, Scissors!\")\n",
        "    while True:\n",
        "        result = play()\n",
        "        print(result)\n",
        "\n",
        "        play_again = input(\"Play again? (y/n): \").lower()\n",
        "        if play_again != 'y':\n",
        "            break"
      ]
    },
    {
      "cell_type": "code",
      "source": [
        "import random\n",
        "import string\n",
        "\n",
        "def choose_word():\n",
        "    words = [\"hangman\", \"python\", \"programming\", \"developer\", \"computer\", \"keyboard\", \"mouse\", \"screen\"]\n",
        "    return random.choice(words).upper()\n",
        "\n",
        "def display_word(word, guessed_letters):\n",
        "    display = ''\n",
        "    for letter in word:\n",
        "        if letter in guessed_letters:\n",
        "            display += letter + ' '\n",
        "        else:\n",
        "            display += '_ '\n",
        "    return display.strip()\n",
        "\n",
        "def play():\n",
        "    word = choose_word()\n",
        "    word_letters = set(word)\n",
        "    alphabet = set(string.ascii_uppercase)\n",
        "    guessed_letters = set()\n",
        "\n",
        "    lives = 6\n",
        "\n",
        "    print(\"Welcome to Hangman!\")\n",
        "    print(display_word(word, guessed_letters))\n",
        "\n",
        "    while lives > 0 and word_letters.difference(guessed_letters):\n",
        "        print(f\"\\nYou have {lives} lives left.\")\n",
        "        print(f\"Used letters: {' '.join(sorted(guessed_letters))}\")\n",
        "        user_letter = input(\"Guess a letter: \").upper()\n",
        "\n",
        "        if len(user_letter) == 1 and user_letter in alphabet - guessed_letters:\n",
        "            guessed_letters.add(user_letter)\n",
        "            if user_letter in word_letters:\n",
        "                print(\"Correct guess!\")\n",
        "            else:\n",
        "                lives -= 1\n",
        "                print(\"Incorrect guess.\")\n",
        "            print(display_word(word, guessed_letters))\n",
        "        elif user_letter in guessed_letters:\n",
        "            print(\"You have already guessed that letter. Try again.\")\n",
        "        elif len(user_letter) == len(word) and user_letter == word:\n",
        "            print(f\"Congratulations! You guessed the word {word} correctly!\")\n",
        "            return\n",
        "        else:\n",
        "            print(\"Invalid guess. Please enter a single letter or the full word.\")\n",
        "\n",
        "    if lives == 0:\n",
        "        print(f\"\\nYou ran out of lives! The word was {word}.\")\n",
        "    else:\n",
        "        print(f\"\\nCongratulations! You guessed the word {word} correctly!\")\n",
        "\n",
        "if __name__ == \"__main__\":\n",
        "    play()"
      ],
      "metadata": {
        "colab": {
          "base_uri": "https://localhost:8080/"
        },
        "id": "siWJvaLdVE23",
        "outputId": "be579e37-2c51-4a9a-f570-46f02fa70191"
      },
      "execution_count": 1,
      "outputs": [
        {
          "output_type": "stream",
          "name": "stdout",
          "text": [
            "Welcome to Hangman!\n",
            "_ _ _ _ _ _ _\n",
            "\n",
            "You have 6 lives left.\n",
            "Used letters: \n",
            "Guess a letter: screen\n",
            "Invalid guess. Please enter a single letter or the full word.\n",
            "\n",
            "You have 6 lives left.\n",
            "Used letters: \n",
            "Guess a letter: mouse\n",
            "Invalid guess. Please enter a single letter or the full word.\n",
            "\n",
            "You have 6 lives left.\n",
            "Used letters: \n",
            "Guess a letter: c\n",
            "Incorrect guess.\n",
            "_ _ _ _ _ _ _\n",
            "\n",
            "You have 5 lives left.\n",
            "Used letters: C\n",
            "Guess a letter: m\n",
            "Correct guess!\n",
            "_ _ _ _ M _ _\n",
            "\n",
            "You have 5 lives left.\n",
            "Used letters: C M\n",
            "Guess a letter: P\n",
            "Incorrect guess.\n",
            "_ _ _ _ M _ _\n",
            "\n",
            "You have 4 lives left.\n",
            "Used letters: C M P\n",
            "Guess a letter: S\n",
            "Incorrect guess.\n",
            "_ _ _ _ M _ _\n",
            "\n",
            "You have 3 lives left.\n",
            "Used letters: C M P S\n",
            "Guess a letter: h\n",
            "Correct guess!\n",
            "H _ _ _ M _ _\n",
            "\n",
            "You have 3 lives left.\n",
            "Used letters: C H M P S\n",
            "Guess a letter: d\n",
            "Incorrect guess.\n",
            "H _ _ _ M _ _\n",
            "\n",
            "You have 2 lives left.\n",
            "Used letters: C D H M P S\n",
            "Guess a letter: k\n",
            "Incorrect guess.\n",
            "H _ _ _ M _ _\n",
            "\n",
            "You have 1 lives left.\n",
            "Used letters: C D H K M P S\n",
            "Guess a letter: p\n",
            "You have already guessed that letter. Try again.\n",
            "\n",
            "You have 1 lives left.\n",
            "Used letters: C D H K M P S\n",
            "Guess a letter: pr\n",
            "Invalid guess. Please enter a single letter or the full word.\n",
            "\n",
            "You have 1 lives left.\n",
            "Used letters: C D H K M P S\n",
            "Guess a letter: g\n",
            "Correct guess!\n",
            "H _ _ G M _ _\n",
            "\n",
            "You have 1 lives left.\n",
            "Used letters: C D G H K M P S\n",
            "Guess a letter: d\n",
            "You have already guessed that letter. Try again.\n",
            "\n",
            "You have 1 lives left.\n",
            "Used letters: C D G H K M P S\n",
            "Guess a letter: a\n",
            "Correct guess!\n",
            "H A _ G M A _\n",
            "\n",
            "You have 1 lives left.\n",
            "Used letters: A C D G H K M P S\n",
            "Guess a letter: b\n",
            "Incorrect guess.\n",
            "H A _ G M A _\n",
            "\n",
            "You ran out of lives! The word was HANGMAN.\n"
          ]
        }
      ]
    },
    {
      "cell_type": "code",
      "source": [
        "import time\n",
        "\n",
        "def countdown(t):\n",
        "    while t:\n",
        "        mins, secs = divmod(t, 60)\n",
        "        timer = '{:02d}:{:02d}'.format(mins, secs)\n",
        "        print(timer, end=\"\\r\")\n",
        "        time.sleep(1)\n",
        "        t -= 1\n",
        "\n",
        "    print('Countdown finished!')\n",
        "\n",
        "def main():\n",
        "    try:\n",
        "        seconds = int(input(\"Enter the time in seconds: \"))\n",
        "        if seconds < 0:\n",
        "            print(\"Please enter a non-negative number of seconds.\")\n",
        "        else:\n",
        "            countdown(seconds)\n",
        "    except ValueError:\n",
        "        print(\"Invalid input. Please enter an integer for the time in seconds.\")\n",
        "\n",
        "if __name__ == \"__main__\":\n",
        "    main()"
      ],
      "metadata": {
        "colab": {
          "base_uri": "https://localhost:8080/"
        },
        "id": "kHjpEJinXKQ9",
        "outputId": "e9cdf05e-3b1b-4296-bdf1-d7925c06617c"
      },
      "execution_count": 11,
      "outputs": [
        {
          "output_type": "stream",
          "name": "stdout",
          "text": [
            "Enter the time in seconds: 20\n",
            "Countdown finished!\n"
          ]
        }
      ]
    },
    {
      "cell_type": "code",
      "source": [
        "import random\n",
        "import string\n",
        "\n",
        "def generate_password(length):\n",
        "    \"\"\"Generates a random password of the specified length.\"\"\"\n",
        "    characters = string.ascii_letters + string.digits + string.punctuation\n",
        "    password = ''.join(random.choice(characters) for _ in range(length))\n",
        "    return password\n",
        "\n",
        "def main():\n",
        "    try:\n",
        "        num_passwords = int(input(\"How many passwords do you want to generate? \"))\n",
        "        if num_passwords <= 0:\n",
        "            print(\"Please enter a positive number of passwords.\")\n",
        "            return\n",
        "\n",
        "        password_length = int(input(\"Enter the desired length for each password: \"))\n",
        "        if password_length <= 0:\n",
        "            print(\"Please enter a positive password length.\")\n",
        "            return\n",
        "\n",
        "        print(\"\\nGenerated Passwords:\")\n",
        "        for _ in range(num_passwords):\n",
        "            password = generate_password(password_length)\n",
        "            print(password)\n",
        "\n",
        "    except ValueError:\n",
        "        print(\"Invalid input. Please enter integers for the number of passwords and length.\")\n",
        "\n",
        "if __name__ == \"__main__\":\n",
        "    main()"
      ],
      "metadata": {
        "colab": {
          "base_uri": "https://localhost:8080/"
        },
        "id": "UTCwhR2yZpxc",
        "outputId": "c627e40a-e318-44d4-a0ba-077e5957ed12"
      },
      "execution_count": 12,
      "outputs": [
        {
          "output_type": "stream",
          "name": "stdout",
          "text": [
            "How many passwords do you want to generate? 1\n",
            "Enter the desired length for each password: 8\n",
            "\n",
            "Generated Passwords:\n",
            "LKD9Avd-\n"
          ]
        }
      ]
    }
  ],
  "metadata": {
    "colab": {
      "provenance": [],
      "authorship_tag": "ABX9TyMBftgQwWV5G6rAsUxcnmgw",
      "include_colab_link": true
    },
    "kernelspec": {
      "display_name": "Python 3",
      "name": "python3"
    },
    "language_info": {
      "name": "python"
    }
  },
  "nbformat": 4,
  "nbformat_minor": 0
}