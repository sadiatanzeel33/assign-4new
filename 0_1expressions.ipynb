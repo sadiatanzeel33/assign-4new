{
  "nbformat": 4,
  "nbformat_minor": 0,
  "metadata": {
    "colab": {
      "provenance": [],
      "authorship_tag": "ABX9TyPqBmCDhfvuNU0nKv8rqRP9",
      "include_colab_link": true
    },
    "kernelspec": {
      "name": "python3",
      "display_name": "Python 3"
    },
    "language_info": {
      "name": "python"
    }
  },
  "cells": [
    {
      "cell_type": "markdown",
      "metadata": {
        "id": "view-in-github",
        "colab_type": "text"
      },
      "source": [
        "<a href=\"https://colab.research.google.com/github/sadiatanzeel33/assign-4new/blob/main/0_1expressions.ipynb\" target=\"_parent\"><img src=\"https://colab.research.google.com/assets/colab-badge.svg\" alt=\"Open In Colab\"/></a>"
      ]
    },
    {
      "cell_type": "code",
      "execution_count": 2,
      "metadata": {
        "colab": {
          "base_uri": "https://localhost:8080/"
        },
        "id": "tQpA4ZJM2QDK",
        "outputId": "3531ac60-150d-4623-cc80-9e35b0436fb4"
      },
      "outputs": [
        {
          "output_type": "stream",
          "name": "stdout",
          "text": [
            "Roll 1:\n",
            "Die 1: 5, Die 2: 3\n",
            "Roll 2:\n",
            "Die 1: 6, Die 2: 6\n",
            "Roll 3:\n",
            "Die 1: 4, Die 2: 3\n"
          ]
        }
      ],
      "source": [
        "import random\n",
        "\n",
        "# Function to roll a die\n",
        "def roll_die():\n",
        "    return random.randint(1, 6)\n",
        "\n",
        "# Function to roll two dice and print the results\n",
        "def roll_two_dice():\n",
        "    die1 = roll_die()  # Local variable in this function\n",
        "    die2 = roll_die()  # Another local variable\n",
        "    print(f\"Die 1: {die1}, Die 2: {die2}\")\n",
        "\n",
        "# Simulating rolling two dice three times\n",
        "for i in range(3):\n",
        "    print(f\"Roll {i+1}:\")\n",
        "    roll_two_dice()"
      ]
    },
    {
      "cell_type": "code",
      "source": [
        "# Constant value for the speed of light (C) in meters per second\n",
        "C = 299792458\n",
        "\n",
        "# Function to calculate energy\n",
        "def calculate_energy(mass):\n",
        "    energy = mass * C**2\n",
        "    return energy\n",
        "\n",
        "# Loop to continuously read mass from the user\n",
        "while True:\n",
        "    try:\n",
        "        # Read mass input from the user\n",
        "        mass_input = input(\"Enter kilos of mass (or type 'exit' to quit): \")\n",
        "        if mass_input.lower() == \"exit\":\n",
        "            print(\"Exiting the program. Goodbye!\")\n",
        "            break\n",
        "\n",
        "        # Convert the input into a float\n",
        "        mass = float(mass_input)\n",
        "\n",
        "        # Calculate and print energy\n",
        "        energy = calculate_energy(mass)\n",
        "        print(f\"m = {mass} kg\")\n",
        "        print(f\"C = {C} m/s\")\n",
        "        print(f\"{energy} joules of energy!\\n\")\n",
        "    except ValueError:\n",
        "        print(\"Invalid input. Please enter a numeric value for mass.\")\n"
      ],
      "metadata": {
        "colab": {
          "base_uri": "https://localhost:8080/"
        },
        "id": "2gEWwCOe5oED",
        "outputId": "b20200ea-fe00-4f4a-ca2c-7b5f835dbd44"
      },
      "execution_count": 4,
      "outputs": [
        {
          "output_type": "stream",
          "name": "stdout",
          "text": [
            "Enter kilos of mass (or type 'exit' to quit): exit\n",
            "Exiting the program. Goodbye!\n"
          ]
        }
      ]
    },
    {
      "cell_type": "code",
      "source": [
        "\n",
        "\n",
        "# Function to convert feet to inches\n",
        "def feet_to_inches(feet):\n",
        "    inches = feet * 12\n",
        "    return inches\n",
        "\n",
        "# Loop to continually read input from the user\n",
        "while True:\n",
        "    try:\n",
        "        # Get input from the user\n",
        "        user_input = input(\"Enter measurement in feet (or type 'exit' to quit): \")\n",
        "        if user_input.lower() == \"exit\":\n",
        "            print(\"Goodbye!\")\n",
        "            break\n",
        "\n",
        "        # Convert input to a float for calculations\n",
        "        feet = float(user_input)\n",
        "\n",
        "        # Calculate and display the result\n",
        "        inches = feet_to_inches(feet)\n",
        "        print(f\"{feet} feet is equal to {inches} inches.\\n\")\n",
        "    except ValueError:\n",
        "        print(\"Invalid input. Please enter a numeric value for feet.\")\n"
      ],
      "metadata": {
        "colab": {
          "base_uri": "https://localhost:8080/"
        },
        "id": "neAcklLX6Sbn",
        "outputId": "6cbe9a31-90c4-4fee-fe5d-6949b7969c31"
      },
      "execution_count": 5,
      "outputs": [
        {
          "output_type": "stream",
          "name": "stdout",
          "text": [
            "Enter measurement in feet (or type 'exit' to quit): 12\n",
            "12.0 feet is equal to 144.0 inches.\n",
            "\n",
            "Enter measurement in feet (or type 'exit' to quit): \n",
            "Invalid input. Please enter a numeric value for feet.\n",
            "Enter measurement in feet (or type 'exit' to quit): exit\n",
            "Goodbye!\n"
          ]
        }
      ]
    },
    {
      "cell_type": "code",
      "source": [
        "import math\n",
        "\n",
        "# Function to calculate the hypotenuse\n",
        "def calculate_hypotenuse(ab, ac):\n",
        "    return math.sqrt(ab**2 + ac**2)\n",
        "\n",
        "# Prompt the user for the lengths of the perpendicular sides\n",
        "try:\n",
        "    ab = float(input(\"Enter the length of side AB (in units): \"))\n",
        "    ac = float(input(\"Enter the length of side AC (in units): \"))\n",
        "\n",
        "    # Calculate and display the hypotenuse\n",
        "    hypotenuse = calculate_hypotenuse(ab, ac)\n",
        "    print(f\"The length of the hypotenuse (BC) is: {hypotenuse:.2f} units\")\n",
        "except ValueError:\n",
        "    print(\"Please enter valid numeric values for the lengths.\")\n"
      ],
      "metadata": {
        "colab": {
          "base_uri": "https://localhost:8080/"
        },
        "id": "_z8tIa7Y6uoQ",
        "outputId": "ec6cbcdb-c817-41d4-fb67-4fa83d6f9796"
      },
      "execution_count": 6,
      "outputs": [
        {
          "output_type": "stream",
          "name": "stdout",
          "text": [
            "Enter the length of side AB (in units): 20\n",
            "Enter the length of side AC (in units): 20\n",
            "The length of the hypotenuse (BC) is: 28.28 units\n"
          ]
        }
      ]
    },
    {
      "cell_type": "code",
      "source": [
        "# Function to perform division and calculate remainder\n",
        "def divide_numbers(dividend, divisor):\n",
        "    quotient = dividend // divisor  # Integer division\n",
        "    remainder = dividend % divisor  # Remainder of the division\n",
        "    return quotient, remainder\n",
        "\n",
        "# Prompt the user for input and perform the calculation\n",
        "try:\n",
        "    dividend = int(input(\"Please enter an integer to be divided: \"))\n",
        "    divisor = int(input(\"Please enter an integer to divide by: \"))\n",
        "\n",
        "    if divisor == 0:\n",
        "        print(\"Division by zero is not allowed.\")\n",
        "    else:\n",
        "        quotient, remainder = divide_numbers(dividend, divisor)\n",
        "        print(f\"The result of this division is {quotient} with a remainder of {remainder}.\")\n",
        "except ValueError:\n",
        "    print(\"Invalid input. Please enter integer values.\")\n"
      ],
      "metadata": {
        "colab": {
          "base_uri": "https://localhost:8080/"
        },
        "id": "Bvb8PzwR7R-i",
        "outputId": "2f162fda-a402-4664-f191-cf740b9f3aa2"
      },
      "execution_count": 7,
      "outputs": [
        {
          "output_type": "stream",
          "name": "stdout",
          "text": [
            "Please enter an integer to be divided: 5\n",
            "Please enter an integer to divide by: 5\n",
            "The result of this division is 1 with a remainder of 0.\n"
          ]
        }
      ]
    },
    {
      "cell_type": "code",
      "source": [
        "import random\n",
        "\n",
        "# Function to roll a single die\n",
        "def roll_die():\n",
        "    return random.randint(1, 6)\n",
        "\n",
        "# Rolling two dice\n",
        "die1 = roll_die()\n",
        "die2 = roll_die()\n",
        "\n",
        "# Calculating the total\n",
        "total = die1 + die2\n",
        "\n",
        "# Displaying the results\n",
        "print(f\"Die 1 rolled: {die1}\")\n",
        "print(f\"Die 2 rolled: {die2}\")\n",
        "print(f\"Total: {total}\")\n"
      ],
      "metadata": {
        "colab": {
          "base_uri": "https://localhost:8080/"
        },
        "id": "99QXpios7k5X",
        "outputId": "c4c55281-ed71-48c2-a307-416032b9f58b"
      },
      "execution_count": 8,
      "outputs": [
        {
          "output_type": "stream",
          "name": "stdout",
          "text": [
            "Die 1 rolled: 5\n",
            "Die 2 rolled: 2\n",
            "Total: 7\n"
          ]
        }
      ]
    },
    {
      "cell_type": "code",
      "source": [
        "# Constants\n",
        "DAYS_IN_YEAR = 365\n",
        "HOURS_IN_DAY = 24\n",
        "MINUTES_IN_HOUR = 60\n",
        "SECONDS_IN_MINUTE = 60\n",
        "\n",
        "# Calculation\n",
        "seconds_in_year = DAYS_IN_YEAR * HOURS_IN_DAY * MINUTES_IN_HOUR * SECONDS_IN_MINUTE\n",
        "\n",
        "# Print the result\n",
        "print(f\"There are {seconds_in_year} seconds in a year!\")\n"
      ],
      "metadata": {
        "colab": {
          "base_uri": "https://localhost:8080/"
        },
        "id": "oR-5ppfi72JV",
        "outputId": "26e961c9-9308-4ebb-8266-e9714fb87e71"
      },
      "execution_count": 9,
      "outputs": [
        {
          "output_type": "stream",
          "name": "stdout",
          "text": [
            "There are 31536000 seconds in a year!\n"
          ]
        }
      ]
    },
    {
      "cell_type": "code",
      "source": [
        "# Constant for the beginning of the sentence\n",
        "SENTENCE_START = \"Code in Place is fun. I learned to program and used Python to make my\"\n",
        "\n",
        "# Prompt the user for an adjective, a noun, and a verb\n",
        "adjective = input(\"Please type an adjective and press enter: \")\n",
        "noun = input(\"Please type a noun and press enter: \")\n",
        "verb = input(\"Please type a verb and press enter: \")\n",
        "\n",
        "# Construct and print the fun sentence\n",
        "print(f\"{SENTENCE_START} {adjective} {noun} {verb}!\")\n"
      ],
      "metadata": {
        "colab": {
          "base_uri": "https://localhost:8080/"
        },
        "id": "Dr0d70Zl8Ke-",
        "outputId": "de57f590-4848-477a-81ea-c5c716454abb"
      },
      "execution_count": 10,
      "outputs": [
        {
          "output_type": "stream",
          "name": "stdout",
          "text": [
            "Please type an adjective and press enter: beautiful girl\n",
            "Please type a noun and press enter: girl\n",
            "Please type a verb and press enter: running\n",
            "Code in Place is fun. I learned to program and used Python to make my beautiful girl girl running!\n"
          ]
        }
      ]
    },
    {
      "cell_type": "code",
      "source": [],
      "metadata": {
        "id": "n-huf_8_8l-K"
      },
      "execution_count": null,
      "outputs": []
    }
  ]
}