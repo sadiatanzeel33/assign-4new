{
  "nbformat": 4,
  "nbformat_minor": 0,
  "metadata": {
    "colab": {
      "provenance": [],
      "authorship_tag": "ABX9TyPolGGankekkhFhGQrsxV15",
      "include_colab_link": true
    },
    "kernelspec": {
      "name": "python3",
      "display_name": "Python 3"
    },
    "language_info": {
      "name": "python"
    }
  },
  "cells": [
    {
      "cell_type": "markdown",
      "metadata": {
        "id": "view-in-github",
        "colab_type": "text"
      },
      "source": [
        "<a href=\"https://colab.research.google.com/github/sadiatanzeel33/assign-4new/blob/main/06_functions.ipynb\" target=\"_parent\"><img src=\"https://colab.research.google.com/assets/colab-badge.svg\" alt=\"Open In Colab\"/></a>"
      ]
    },
    {
      "cell_type": "code",
      "execution_count": 1,
      "metadata": {
        "colab": {
          "base_uri": "https://localhost:8080/"
        },
        "id": "1nufKpUvsWRG",
        "outputId": "2c8096c5-4088-43e7-a9cc-5cccf1490b71"
      },
      "outputs": [
        {
          "output_type": "stream",
          "name": "stdout",
          "text": [
            "Enter the first number: 10\n",
            "Enter the second number: 15\n",
            "The average of 10.0 and 15.0 is 12.5.\n"
          ]
        }
      ],
      "source": [
        "def find_average(num1, num2):\n",
        "    return (num1 + num2) / 2\n",
        "\n",
        "def main():\n",
        "    # Ask the user for two numbers\n",
        "    num1 = float(input(\"Enter the first number: \"))\n",
        "    num2 = float(input(\"Enter the second number: \"))\n",
        "\n",
        "\n",
        "    average = find_average(num1, num2)\n",
        "\n",
        "\n",
        "    print(f\"The average of {num1} and {num2} is {average}.\")\n",
        "\n",
        "\n",
        "if __name__ == '__main__':\n",
        "    main()\n"
      ]
    },
    {
      "cell_type": "code",
      "source": [
        "import random\n",
        "\n",
        "\n",
        "def done():\n",
        "    DONE_LIKELIHOOD = 0.3\n",
        "    return random.random() < DONE_LIKELIHOOD\n",
        "\n",
        "def chaotic_counting():\n",
        "\n",
        "    for i in range(1, 11):\n",
        "        if done():\n",
        "            return\n",
        "        print(i, end=' ')\n",
        "\n",
        "def main():\n",
        "    print(\"I'm going to count until 10 or until I feel like stopping, whichever comes first.\")\n",
        "    chaotic_counting()\n",
        "    print(\"I'm done.\")\n",
        "\n",
        "if __name__ == '__main__':\n",
        "    main()\n"
      ],
      "metadata": {
        "colab": {
          "base_uri": "https://localhost:8080/"
        },
        "id": "JjQ-mD38sogz",
        "outputId": "e69e36a1-3426-4a1b-8a86-a5fb4385f711"
      },
      "execution_count": 2,
      "outputs": [
        {
          "output_type": "stream",
          "name": "stdout",
          "text": [
            "I'm going to count until 10 or until I feel like stopping, whichever comes first.\n",
            "1 I'm done.\n"
          ]
        }
      ]
    },
    {
      "cell_type": "code",
      "source": [
        "def count_even(lst):\n",
        "    \"\"\"\n",
        "    Populates a list with integers from user input and then counts and prints\n",
        "    the number of even numbers in the list.\n",
        "    \"\"\"\n",
        "    while True:\n",
        "        user_input = input(\"Enter an integer or press enter to stop: \")\n",
        "        if user_input == \"\":\n",
        "            break\n",
        "        try:\n",
        "            integer = int(user_input)\n",
        "            lst.append(integer)\n",
        "        except ValueError:\n",
        "            print(\"Invalid input. Please enter an integer or press enter.\")\n",
        "\n",
        "    even_count = 0\n",
        "    for num in lst:\n",
        "        if num % 2 == 0:\n",
        "            even_count += 1\n",
        "\n",
        "    print(f\"The number of even numbers in the list is: {even_count}\")\n",
        "\n",
        "def main():\n",
        "    numbers = []\n",
        "    count_even(numbers)\n",
        "\n",
        "if __name__ == '__main__':\n",
        "    main()"
      ],
      "metadata": {
        "colab": {
          "base_uri": "https://localhost:8080/"
        },
        "id": "DSFhFyxws9DF",
        "outputId": "c90a2222-07ab-49c1-ab56-e2b46bf26e2a"
      },
      "execution_count": 3,
      "outputs": [
        {
          "output_type": "stream",
          "name": "stdout",
          "text": [
            "Enter an integer or press enter to stop: 5\n",
            "Enter an integer or press enter to stop: 10\n",
            "Enter an integer or press enter to stop: 1\n",
            "Enter an integer or press enter to stop: stop\n",
            "Invalid input. Please enter an integer or press enter.\n",
            "Enter an integer or press enter to stop: \n",
            "The number of even numbers in the list is: 1\n"
          ]
        }
      ]
    },
    {
      "cell_type": "code",
      "source": [
        "def double(num):\n",
        "    \"\"\"\n",
        "    This function takes a number as input and returns its double.\n",
        "    \"\"\"\n",
        "    return num * 2\n",
        "\n",
        "def main():\n",
        "    try:\n",
        "        user_input = input(\"Enter a number: \")\n",
        "        number = int(user_input)\n",
        "        doubled_number = double(number)\n",
        "        print(f\"Double that is {doubled_number}\")\n",
        "    except ValueError:\n",
        "        print(\"Invalid input. Please enter an integer.\")\n",
        "\n",
        "if __name__ == '__main__':\n",
        "    main()"
      ],
      "metadata": {
        "colab": {
          "base_uri": "https://localhost:8080/"
        },
        "id": "kh_QDvthwGcB",
        "outputId": "3eccc9ab-a75e-473e-c2ae-34d9f5e216b6"
      },
      "execution_count": 4,
      "outputs": [
        {
          "output_type": "stream",
          "name": "stdout",
          "text": [
            "Enter a number: 5\n",
            "Double that is 10\n"
          ]
        }
      ]
    },
    {
      "cell_type": "code",
      "source": [
        "def get_name():\n",
        "    \"\"\"\n",
        "    This function returns your name as a string.\n",
        "    The autograder expects the returned name to be \"Sophia\".\n",
        "    \"\"\"\n",
        "    return \"Sophia\"\n",
        "\n",
        "def main():\n",
        "    name = get_name()\n",
        "    print(f\"Howdy {name} ! 🤠\")\n",
        "\n",
        "if __name__ == '__main__':\n",
        "    main()"
      ],
      "metadata": {
        "colab": {
          "base_uri": "https://localhost:8080/"
        },
        "id": "R53zmixbwc9o",
        "outputId": "aaa15b7b-3603-4aae-d88b-ed2a3c0b66dc"
      },
      "execution_count": 5,
      "outputs": [
        {
          "output_type": "stream",
          "name": "stdout",
          "text": [
            "Howdy Sophia ! 🤠\n"
          ]
        }
      ]
    },
    {
      "cell_type": "code",
      "source": [
        "def main():\n",
        "    for i in range(10, 20):\n",
        "        if i % 2 == 0:\n",
        "            print(f\"{i} even\", end=\" \")\n",
        "        else:\n",
        "            print(f\"{i} odd\", end=\" \")\n",
        "    print()\n",
        "\n",
        "if __name__ == '__main__':\n",
        "    main()"
      ],
      "metadata": {
        "colab": {
          "base_uri": "https://localhost:8080/"
        },
        "id": "l1I0-ny_wzz7",
        "outputId": "a335fb29-4af2-4cf3-b3f7-1420b117a19d"
      },
      "execution_count": 6,
      "outputs": [
        {
          "output_type": "stream",
          "name": "stdout",
          "text": [
            "10 even 11 odd 12 even 13 odd 14 even 15 odd 16 even 17 odd 18 even 19 odd \n"
          ]
        }
      ]
    },
    {
      "cell_type": "code",
      "source": [
        "def print_divisors(num):\n",
        "    \"\"\"\n",
        "    This function takes an integer 'num' and prints all of its divisors.\n",
        "    \"\"\"\n",
        "    print(f\"Here are the divisors of {num}\")\n",
        "    for i in range(1, num + 1):\n",
        "        if num % i == 0:\n",
        "            print(i, end=\" \")\n",
        "    print()  #\n",
        "\n",
        "def main():\n",
        "    try:\n",
        "        user_input = input(\"Enter a number: \")\n",
        "        number = int(user_input)\n",
        "        if number <= 0:\n",
        "            print(\"Please enter a positive integer.\")\n",
        "        else:\n",
        "            print_divisors(number)\n",
        "    except ValueError:\n",
        "        print(\"Invalid input. Please enter an integer.\")\n",
        "\n",
        "if __name__ == '__main__':\n",
        "    main()"
      ],
      "metadata": {
        "colab": {
          "base_uri": "https://localhost:8080/"
        },
        "id": "tUQXjXkPw4YS",
        "outputId": "e8ecdceb-3579-45c4-d569-288552bc5009"
      },
      "execution_count": 7,
      "outputs": [
        {
          "output_type": "stream",
          "name": "stdout",
          "text": [
            "Enter a number: 10\n",
            "Here are the divisors of 10\n",
            "1 2 5 10 \n"
          ]
        }
      ]
    },
    {
      "cell_type": "code",
      "source": [
        "def print_multiple(message, repeats):\n",
        "    \"\"\"\n",
        "    This function takes a string 'message' and an integer 'repeats'\n",
        "    and prints the message the specified number of times.\n",
        "    \"\"\"\n",
        "    for _ in range(repeats):\n",
        "        print(message, end=\" \")\n",
        "    print()\n",
        "\n",
        "def main():\n",
        "    try:\n",
        "        user_message = input(\"Please type a message: \")\n",
        "        user_repeats = input(\"Enter a number of times to repeat your message: \")\n",
        "        repeats = int(user_repeats)\n",
        "        if repeats < 0:\n",
        "            print(\"Please enter a non-negative number of repeats.\")\n",
        "        else:\n",
        "            print_multiple(user_message, repeats)\n",
        "    except ValueError:\n",
        "        print(\"Invalid input for the number of repeats. Please enter an integer.\")\n",
        "\n",
        "if __name__ == '__main__':\n",
        "    main()"
      ],
      "metadata": {
        "colab": {
          "base_uri": "https://localhost:8080/"
        },
        "id": "0yqfDYb3xGS9",
        "outputId": "eb84106a-bdb1-4acf-e52f-f75686d9c9d3"
      },
      "execution_count": 8,
      "outputs": [
        {
          "output_type": "stream",
          "name": "stdout",
          "text": [
            "Please type a message: its a valid number\n",
            "Enter a number of times to repeat your message: 2\n",
            "its a valid number its a valid number \n"
          ]
        }
      ]
    },
    {
      "cell_type": "code",
      "source": [
        "def make_sentence(word, part_of_speech):\n",
        "    \"\"\"\n",
        "    Takes a word and a part of speech integer and prints a sentence\n",
        "    using a corresponding template.\n",
        "\n",
        "    Args:\n",
        "        word (str): The word to insert into the sentence.\n",
        "        part_of_speech (int): 0 for noun, 1 for verb, 2 for adjective.\n",
        "    \"\"\"\n",
        "    if part_of_speech == 0:\n",
        "        template = \"I am excited to add this ____ to my vast collection of them!\"\n",
        "        print(template.replace(\"____\", word))\n",
        "    elif part_of_speech == 1:\n",
        "        template = \"It's so nice outside today it makes me want to ____!\"\n",
        "        print(template.replace(\"____\", word))\n",
        "    elif part_of_speech == 2:\n",
        "        template = \"Looking out my window, the sky is big and ____!\"\n",
        "        print(template.replace(\"____\", word))\n",
        "    else:\n",
        "        print(\"Invalid part of speech.\")\n",
        "\n",
        "def main():\n",
        "    user_word = input(\"Please type a noun, verb, or adjective: \")\n",
        "    while True:\n",
        "        try:\n",
        "            user_pos = input(\"Is this a noun, verb, or adjective? Type 0 for noun, 1 for verb, 2 for adjective: \")\n",
        "            part_of_speech = int(user_pos)\n",
        "            if 0 <= part_of_speech <= 2:\n",
        "                break\n",
        "            else:\n",
        "                print(\"Please enter 0, 1, or 2.\")\n",
        "        except ValueError:\n",
        "            print(\"Invalid input. Please enter an integer.\")\n",
        "\n",
        "    make_sentence(user_word, part_of_speech)\n",
        "\n",
        "if __name__ == '__main__':\n",
        "    main()"
      ],
      "metadata": {
        "colab": {
          "base_uri": "https://localhost:8080/"
        },
        "id": "VFo1kF_PxfAT",
        "outputId": "0efedf33-0fab-4af0-d07f-aecea503b974"
      },
      "execution_count": 12,
      "outputs": [
        {
          "output_type": "stream",
          "name": "stdout",
          "text": [
            "Please type a noun, verb, or adjective: going\n",
            "Is this a noun, verb, or adjective? Type 0 for noun, 1 for verb, 2 for adjective: 1\n",
            "It's so nice outside today it makes me want to going!\n"
          ]
        }
      ]
    },
    {
      "cell_type": "code",
      "source": [
        "def print_ones_digit(num):\n",
        "    \"\"\"\n",
        "    This function takes an integer 'num' and prints its ones digit.\n",
        "    \"\"\"\n",
        "    ones_digit = num % 10\n",
        "    print(f\"The ones digit is {ones_digit}\")\n",
        "\n",
        "def main():\n",
        "    try:\n",
        "        user_input = input(\"Enter a number: \")\n",
        "        number = int(user_input)\n",
        "        print_ones_digit(number)\n",
        "    except ValueError:\n",
        "        print(\"Invalid input. Please enter an integer.\")\n",
        "\n",
        "if __name__ == '__main__':\n",
        "    main()"
      ],
      "metadata": {
        "colab": {
          "base_uri": "https://localhost:8080/"
        },
        "id": "peP-Lo8KyLQY",
        "outputId": "d2a3bf94-6633-4674-a010-ff902d53437a"
      },
      "execution_count": 13,
      "outputs": [
        {
          "output_type": "stream",
          "name": "stdout",
          "text": [
            "Enter a number: 6\n",
            "The ones digit is 6\n"
          ]
        }
      ]
    }
  ]
}